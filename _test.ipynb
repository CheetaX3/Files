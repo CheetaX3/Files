{
 "cells": [
  {
   "cell_type": "code",
   "execution_count": null,
   "metadata": {},
   "outputs": [
    {
     "name": "stdout",
     "output_type": "stream",
     "text": [
      "9\n"
     ]
    }
   ],
   "source": [
    "my_list = []\n",
    "my_list_len = 0\n",
    "\n",
    "while my_list_len <= 1000:\n",
    "    i = int(input())\n",
    "    if i == 0:\n",
    "        break\n",
    "    if 0 < i <= 30000:\n",
    "        my_list.append(i)\n",
    "        my_list_len += 1\n",
    "    else:\n",
    "        if i > 30000:\n",
    "            print('The number is more than 30 000')\n",
    "        else:\n",
    "            print('The number is negative')\n",
    "\n",
    "min_val = float('inf')\n",
    "for a in my_list:\n",
    "    if a % 3 == 0 and a < min_val:\n",
    "        min_val = a\n",
    "\n",
    "print(f'The minimum number divisible by 3 is {min_val}' if min_val != float('inf') else 'There are no numbers divisible by 3 in the sequence')"
   ]
  }
 ],
 "metadata": {
  "kernelspec": {
   "display_name": "Python 3",
   "language": "python",
   "name": "python3"
  },
  "language_info": {
   "codemirror_mode": {
    "name": "ipython",
    "version": 3
   },
   "file_extension": ".py",
   "mimetype": "text/x-python",
   "name": "python",
   "nbconvert_exporter": "python",
   "pygments_lexer": "ipython3",
   "version": "3.13.0"
  }
 },
 "nbformat": 4,
 "nbformat_minor": 2
}
